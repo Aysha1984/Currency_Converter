{
  "nbformat": 4,
  "nbformat_minor": 0,
  "metadata": {
    "colab": {
      "provenance": []
    },
    "kernelspec": {
      "name": "python3",
      "display_name": "Python 3"
    },
    "language_info": {
      "name": "python"
    }
  },
  "cells": [
    {
      "cell_type": "code",
      "execution_count": null,
      "metadata": {
        "colab": {
          "base_uri": "https://localhost:8080/"
        },
        "id": "lni-BAwqn5MI",
        "outputId": "81e855b5-deb0-4295-9f9f-a9c0edc51cdf"
      },
      "outputs": [
        {
          "output_type": "stream",
          "name": "stdout",
          "text": [
            "Welcome to the Currency Converter!\n",
            "Enter the base currency (e.g., USD): GBP\n",
            "Enter the currency to convert from: PKR\n",
            "Enter the currency to convert to: GBP\n",
            "Enter the amount to convert: 100\n",
            "100.0 PKR is equal to 0.29 GBP\n"
          ]
        }
      ],
      "source": [
        "import requests\n",
        "import json\n",
        "\n",
        "def fetch_exchange_rates(base_currency):\n",
        "    \"\"\"\n",
        "    Fetch the latest exchange rates from an API.\n",
        "\n",
        "    Parameters:\n",
        "    base_currency (str): The base currency for exchange rates (e.g., 'USD').\n",
        "\n",
        "    Returns:\n",
        "    dict: A dictionary of exchange rates.\n",
        "    \"\"\"\n",
        "    url = f\"https://api.exchangerate-api.com/v4/latest/{base_currency}\"\n",
        "    try:\n",
        "        response = requests.get(url)\n",
        "        response.raise_for_status()\n",
        "        data = response.json()\n",
        "        return data.get('rates', {})\n",
        "    except requests.exceptions.RequestException as e:\n",
        "        print(f\"Error fetching exchange rates: {e}\")\n",
        "        return None\n",
        "\n",
        "\n",
        "def convert_currency(amount, from_currency, to_currency, rates):\n",
        "    \"\"\"\n",
        "    Convert an amount from one currency to another.\n",
        "\n",
        "    Parameters:\n",
        "    amount (float): The amount to convert.\n",
        "    from_currency (str): The currency to convert from.\n",
        "    to_currency (str): The currency to convert to.\n",
        "    rates (dict): A dictionary of exchange rates.\n",
        "\n",
        "    Returns:\n",
        "    float: The converted amount.\n",
        "    \"\"\"\n",
        "    try:\n",
        "        if from_currency != \"USD\":\n",
        "            amount = amount / rates[from_currency]\n",
        "        converted_amount = amount * rates[to_currency]\n",
        "        return converted_amount\n",
        "    except KeyError as e:\n",
        "        print(f\"Error converting currency: {e}\")\n",
        "        return None\n",
        "\n",
        "\n",
        "def main():\n",
        "    print(\"Welcome to the Currency Converter!\")\n",
        "    base_currency = input(\"Enter the base currency (e.g., USD): \").upper()\n",
        "    exchange_rates = fetch_exchange_rates(base_currency)\n",
        "\n",
        "    if not exchange_rates:\n",
        "        print(\"Failed to fetch exchange rates. Please try again later.\")\n",
        "        return\n",
        "\n",
        "    from_currency = input(\"Enter the currency to convert from: \").upper()\n",
        "    to_currency = input(\"Enter the currency to convert to: \").upper()\n",
        "    amount = float(input(\"Enter the amount to convert: \"))\n",
        "\n",
        "    if from_currency not in exchange_rates or to_currency not in exchange_rates:\n",
        "        print(\"Invalid currency code. Please check your input and try again.\")\n",
        "        return\n",
        "\n",
        "    converted_amount = convert_currency(amount, from_currency, to_currency, exchange_rates)\n",
        "\n",
        "    if converted_amount is not None:\n",
        "        print(f\"{amount} {from_currency} is equal to {converted_amount:.2f} {to_currency}\")\n",
        "    else:\n",
        "        print(\"Conversion failed. Please try again.\")\n",
        "\n",
        "\n",
        "if __name__ == \"__main__\":\n",
        "    main()\n"
      ]
    }
  ]
}